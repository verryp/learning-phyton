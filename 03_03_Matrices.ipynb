{
  "nbformat": 4,
  "nbformat_minor": 0,
  "metadata": {
    "colab": {
      "name": "03-03-Matrices.ipynb",
      "version": "0.3.2",
      "provenance": [],
      "include_colab_link": true
    },
    "language_info": {
      "codemirror_mode": {
        "name": "ipython",
        "version": 3
      },
      "file_extension": ".py",
      "mimetype": "text/x-python",
      "name": "python",
      "nbconvert_exporter": "python",
      "pygments_lexer": "ipython3",
      "version": "3.6.3"
    },
    "kernelspec": {
      "display_name": "Python 3.6",
      "language": "python",
      "name": "python36"
    }
  },
  "cells": [
    {
      "cell_type": "markdown",
      "metadata": {
        "id": "view-in-github",
        "colab_type": "text"
      },
      "source": [
        "<a href=\"https://colab.research.google.com/github/vrry/learning-phyton/blob/master/03_03_Matrices.ipynb\" target=\"_parent\"><img src=\"https://colab.research.google.com/assets/colab-badge.svg\" alt=\"Open In Colab\"/></a>"
      ]
    },
    {
      "cell_type": "markdown",
      "metadata": {
        "id": "DBOjgoFyCDht",
        "colab_type": "text"
      },
      "source": [
        "<img src = \"https://i.imgur.com/AKXoLze.jpg\"  align = \"center\">"
      ]
    },
    {
      "cell_type": "markdown",
      "metadata": {
        "id": "8AJLNhIFCAxv",
        "colab_type": "text"
      },
      "source": [
        "# Introduction to Matrices\n",
        "In general terms, a matrix is an array of numbers that are arranged into rows and columns.\n",
        "\n",
        "## Matrices and Matrix Notation\n",
        "A matrix arranges numbers into rows and columns, like this:\n",
        "\n",
        "\\begin{equation}A = \\begin{bmatrix}\n",
        "  1 & 2 & 3 \\\\\n",
        "  4 & 5 & 6\n",
        " \\end{bmatrix}\n",
        "\\end{equation}\n",
        "\n",
        "Note that matrices are generally named as a capital letter. We refer to the *elements* of the matrix using the lower case equivalent with a subscript row and column indicator, like this:\n",
        "\n",
        "\\begin{equation}A = \\begin{bmatrix}\n",
        "  a_{1,1} & a_{1,2} & a_{1,3} \\\\\n",
        "  a_{2,1} & a_{2,2} & a_{2,3}\n",
        " \\end{bmatrix}\n",
        "\\end{equation}\n",
        "\n",
        "In Python, you can define a matrix as a 2-dimensional *numpy.**array***, like this:"
      ]
    },
    {
      "cell_type": "code",
      "metadata": {
        "id": "CxOWl4IsCAxx",
        "colab_type": "code",
        "colab": {
          "base_uri": "https://localhost:8080/",
          "height": 51
        },
        "outputId": "6715e341-d628-4faf-9c8f-9466fcd75ee5"
      },
      "source": [
        "import numpy as np\n",
        "\n",
        "A = np.array([[1,2,3],\n",
        "              [4,5,6]])\n",
        "print (A)"
      ],
      "execution_count": 1,
      "outputs": [
        {
          "output_type": "stream",
          "text": [
            "[[1 2 3]\n",
            " [4 5 6]]\n"
          ],
          "name": "stdout"
        }
      ]
    },
    {
      "cell_type": "markdown",
      "metadata": {
        "id": "1d-nn8q_CAx3",
        "colab_type": "text"
      },
      "source": [
        "You can also use the *numpy.**matrix*** type, which is a specialist subclass of ***array***:"
      ]
    },
    {
      "cell_type": "code",
      "metadata": {
        "id": "lBbhtp-7CAx5",
        "colab_type": "code",
        "colab": {
          "base_uri": "https://localhost:8080/",
          "height": 51
        },
        "outputId": "bbeb3c7c-8a63-413e-f974-1848ef73cd4e"
      },
      "source": [
        "import numpy as np\n",
        "\n",
        "M = np.matrix([[1,2,3],\n",
        "               [4,5,6]])\n",
        "print (M)"
      ],
      "execution_count": 2,
      "outputs": [
        {
          "output_type": "stream",
          "text": [
            "[[1 2 3]\n",
            " [4 5 6]]\n"
          ],
          "name": "stdout"
        }
      ]
    },
    {
      "cell_type": "markdown",
      "metadata": {
        "id": "oP4WGXa9CAx8",
        "colab_type": "text"
      },
      "source": [
        "There are some differences in behavior between ***array*** and ***matrix*** types - particularly with regards to multiplication (which we'll explore later). You can use either, but most experienced Python programmers who need to work with both vectors and matrices tend to prefer the ***array*** type for consistency."
      ]
    },
    {
      "cell_type": "markdown",
      "metadata": {
        "id": "ySnTZIDBCAx9",
        "colab_type": "text"
      },
      "source": [
        "## Matrix Operations\n",
        "Matrices support common arithmetic operations.\n",
        "\n",
        "### Adding Matrices\n",
        "To add two matrices of the same size together, just add the corresponding elements in each matrix:\n",
        "\n",
        "\\begin{equation}\\begin{bmatrix}1 & 2 & 3 \\\\4 & 5 & 6\\end{bmatrix}+ \\begin{bmatrix}6 & 5 & 4 \\\\3 & 2 & 1\\end{bmatrix} = \\begin{bmatrix}7 & 7 & 7 \\\\7 & 7 & 7\\end{bmatrix}\\end{equation}\n",
        "\n",
        "In this example, we're adding two matrices (let's call them ***A*** and ***B***). Each matrix has two rows of three columns (so we describe them as 2x3 matrices). Adding these will create a new matrix of the same dimensions with the values a<sub>1,1</sub> + b<sub>1,1</sub>, a<sub>1,2</sub> + b<sub>1,2</sub>, a<sub>1,3</sub> + b<sub>1,3</sub>,a<sub>2,1</sub> + b<sub>2,1</sub>, a<sub>2,2</sub> + b<sub>2,2</sub>, and a<sub>2,3</sub> + b<sub>2,3</sub>. In this instance, each pair of corresponding elements(1 and 6, 2, and 5, 3 and 4, etc.) adds up to 7.\n",
        "\n",
        "Let's try that with Python:"
      ]
    },
    {
      "cell_type": "code",
      "metadata": {
        "id": "iblIQGZnCAx-",
        "colab_type": "code",
        "colab": {
          "base_uri": "https://localhost:8080/",
          "height": 51
        },
        "outputId": "c821a9a5-f966-4fa4-eefe-b7928021bca2"
      },
      "source": [
        "import numpy as np\n",
        "\n",
        "A = np.array([[1,2,3],\n",
        "              [4,5,6]])\n",
        "B = np.array([[6,5,4],\n",
        "              [3,2,1]])\n",
        "print(A + B)"
      ],
      "execution_count": 3,
      "outputs": [
        {
          "output_type": "stream",
          "text": [
            "[[7 7 7]\n",
            " [7 7 7]]\n"
          ],
          "name": "stdout"
        }
      ]
    },
    {
      "cell_type": "markdown",
      "metadata": {
        "id": "tFFeYxETCAyC",
        "colab_type": "text"
      },
      "source": [
        "### Subtracting Matrices\n",
        "Matrix subtraction works similarly to matrix addition:\n",
        "\n",
        "\\begin{equation}\\begin{bmatrix}1 & 2 & 3 \\\\4 & 5 & 6\\end{bmatrix}- \\begin{bmatrix}6 & 5 & 4 \\\\3 & 2 & 1\\end{bmatrix} = \\begin{bmatrix}-5 & -3 & -1 \\\\1 & 3 & 5\\end{bmatrix}\\end{equation}\n",
        "\n",
        "Here's the Python code to do this:"
      ]
    },
    {
      "cell_type": "code",
      "metadata": {
        "id": "ZW1fGdZyCAyD",
        "colab_type": "code",
        "colab": {
          "base_uri": "https://localhost:8080/",
          "height": 51
        },
        "outputId": "5e68ff69-007a-47eb-955c-daea46cd8fd4"
      },
      "source": [
        "import numpy as np\n",
        "\n",
        "A = np.array([[1,2,3],\n",
        "              [4,5,6]])\n",
        "B = np.array([[6,5,4],\n",
        "              [3,2,1]])\n",
        "print (A - B)"
      ],
      "execution_count": 4,
      "outputs": [
        {
          "output_type": "stream",
          "text": [
            "[[-5 -3 -1]\n",
            " [ 1  3  5]]\n"
          ],
          "name": "stdout"
        }
      ]
    },
    {
      "cell_type": "markdown",
      "metadata": {
        "id": "cDuTOYRdCAyF",
        "colab_type": "text"
      },
      "source": [
        "#### Conformability\n",
        "In the previous examples, we were able to add and subtract the matrices, because the *operands* (the matrices we are operating on) are ***conformable*** for the specific operation (in this case, addition or subtraction). To be conformable for addition and subtraction, the operands must have the same number of rows and columns. There are different conformability requirements for other operations, such as multiplication; which we'll explore later."
      ]
    },
    {
      "cell_type": "markdown",
      "metadata": {
        "id": "jsqSbS5nCAyG",
        "colab_type": "text"
      },
      "source": [
        "### Negative Matrices\n",
        "The nagative of a matrix, is just a matrix with the sign of each element reversed:\n",
        "\n",
        "\\begin{equation}C = \\begin{bmatrix}-5 & -3 & -1 \\\\1 & 3 & 5\\end{bmatrix}\\end{equation}\n",
        "\n",
        "\\begin{equation}-C = \\begin{bmatrix}5 & 3 & 1 \\\\-1 & -3 & -5\\end{bmatrix}\\end{equation}\n",
        "\n",
        "Let's see that with Python:"
      ]
    },
    {
      "cell_type": "code",
      "metadata": {
        "id": "VYy5m-gnCAyH",
        "colab_type": "code",
        "colab": {
          "base_uri": "https://localhost:8080/",
          "height": 85
        },
        "outputId": "79830d2c-67b2-4eab-93e1-d0d3a303c178"
      },
      "source": [
        "import numpy as np\n",
        "\n",
        "C = np.array([[-5,-3,-1],\n",
        "              [1,3,5]])\n",
        "print (C)\n",
        "print (-C)"
      ],
      "execution_count": 5,
      "outputs": [
        {
          "output_type": "stream",
          "text": [
            "[[-5 -3 -1]\n",
            " [ 1  3  5]]\n",
            "[[ 5  3  1]\n",
            " [-1 -3 -5]]\n"
          ],
          "name": "stdout"
        }
      ]
    },
    {
      "cell_type": "markdown",
      "metadata": {
        "id": "7HBALmKNCAyJ",
        "colab_type": "text"
      },
      "source": [
        "### Matrix Transposition\n",
        "You can *transpose* a matrix, that is switch the orientation of its rows and columns. You indicate this with a superscript **T**, like this:\n",
        "\n",
        "\\begin{equation}\\begin{bmatrix}1 & 2 & 3 \\\\4 & 5 & 6\\end{bmatrix}^{T} = \\begin{bmatrix}1 & 4\\\\2 & 5\\\\3 & 6 \\end{bmatrix}\\end{equation}\n",
        "\n",
        "In Python, both *numpy.**array*** and *numpy.**matrix*** have a **T** function:"
      ]
    },
    {
      "cell_type": "code",
      "metadata": {
        "id": "TIdBgy2CCAyK",
        "colab_type": "code",
        "colab": {
          "base_uri": "https://localhost:8080/",
          "height": 136
        },
        "outputId": "13615118-2cb0-4d19-f23e-ed44d5757897"
      },
      "source": [
        "import numpy as np\n",
        "\n",
        "A = np.array([[1,2,3],\n",
        "              [4,5,6]])\n",
        "print(A.T)\n",
        "# or use\n",
        "print('\\n', A.transpose())"
      ],
      "execution_count": 14,
      "outputs": [
        {
          "output_type": "stream",
          "text": [
            "[[1 4]\n",
            " [2 5]\n",
            " [3 6]]\n",
            "\n",
            " [[1 4]\n",
            " [2 5]\n",
            " [3 6]]\n"
          ],
          "name": "stdout"
        }
      ]
    },
    {
      "cell_type": "code",
      "metadata": {
        "id": "Kk0AuGrGEvi1",
        "colab_type": "code",
        "colab": {}
      },
      "source": [
        ""
      ],
      "execution_count": 0,
      "outputs": []
    }
  ]
}